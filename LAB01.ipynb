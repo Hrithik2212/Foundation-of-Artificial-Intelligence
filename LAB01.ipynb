{
  "nbformat": 4,
  "nbformat_minor": 0,
  "metadata": {
    "colab": {
      "provenance": [],
      "authorship_tag": "ABX9TyN7vYpFrHoiHf6EMkBNSKJK",
      "include_colab_link": true
    },
    "kernelspec": {
      "name": "python3",
      "display_name": "Python 3"
    },
    "language_info": {
      "name": "python"
    }
  },
  "cells": [
    {
      "cell_type": "markdown",
      "metadata": {
        "id": "view-in-github",
        "colab_type": "text"
      },
      "source": [
        "<a href=\"https://colab.research.google.com/github/Hrithik2212/Foundation-of-Artificial-Intelligence/blob/main/LAB01.ipynb\" target=\"_parent\"><img src=\"https://colab.research.google.com/assets/colab-badge.svg\" alt=\"Open In Colab\"/></a>"
      ]
    },
    {
      "cell_type": "markdown",
      "source": [
        "# 0-1 KnapSack Problem "
      ],
      "metadata": {
        "id": "Kf2sK2S2r8TR"
      }
    },
    {
      "cell_type": "code",
      "source": [
        "def knapsack(W:int,profit:list,wt:list,n:int)->int:\n",
        "  if (W == 0 or n==0):\n",
        "    return 0;\n",
        "  \n",
        "  if(wt[n-1]>W):\n",
        "    return knapsack(W,profit,wt,n-1)\n",
        "  else:\n",
        "    return max(profit[n-1]+knapsack(W-wt[n-1],profit,wt,n-1),\n",
        "                knapsack(W,profit,wt,n-1))\n",
        "    \n",
        "val = [60, 100, 120]\n",
        "wt = [10, 20, 30]\n",
        "W = 50\n",
        "n = len(val)\n",
        "print(knapsack(W, val,wt, n))"
      ],
      "metadata": {
        "colab": {
          "base_uri": "https://localhost:8080/"
        },
        "id": "jsjVai_1r_iA",
        "outputId": "41c8f2be-5b01-4de5-ff83-bb3c61b6ef46"
      },
      "execution_count": 4,
      "outputs": [
        {
          "output_type": "stream",
          "name": "stdout",
          "text": [
            "220\n"
          ]
        }
      ]
    },
    {
      "cell_type": "markdown",
      "source": [
        "# Fractional Knapsack Problem"
      ],
      "metadata": {
        "id": "uDlYfbw7tkJG"
      }
    },
    {
      "cell_type": "code",
      "source": [
        "def K(W,profit,wt,n):\n",
        "  p_w = profit/wt\n",
        "  for i in range"
      ],
      "metadata": {
        "id": "89SeeOqqt0KY"
      },
      "execution_count": null,
      "outputs": []
    }
  ]
}